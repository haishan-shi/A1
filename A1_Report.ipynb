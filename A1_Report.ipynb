{
  "nbformat": 4,
  "nbformat_minor": 0,
  "metadata": {
    "kernelspec": {
      "display_name": "Python 3",
      "language": "python",
      "name": "python3"
    },
    "language_info": {
      "codemirror_mode": {
        "name": "ipython",
        "version": 3
      },
      "file_extension": ".py",
      "mimetype": "text/x-python",
      "name": "python",
      "nbconvert_exporter": "python",
      "pygments_lexer": "ipython3",
      "version": "3.5.4"
    },
    "toc": {
      "base_numbering": 1,
      "nav_menu": {},
      "number_sections": true,
      "sideBar": true,
      "skip_h1_title": false,
      "title_cell": "Table of Contents",
      "title_sidebar": "Contents",
      "toc_cell": false,
      "toc_position": {},
      "toc_section_display": true,
      "toc_window_display": false
    },
    "colab": {
      "name": "A1_Report.ipynb",
      "version": "0.3.2",
      "provenance": [],
      "include_colab_link": true
    }
  },
  "cells": [
    {
      "cell_type": "markdown",
      "metadata": {
        "id": "view-in-github",
        "colab_type": "text"
      },
      "source": [
        "<a href=\"https://colab.research.google.com/github/haishan-shi/A1/blob/master/A1_Report.ipynb\" target=\"_parent\"><img src=\"https://colab.research.google.com/assets/colab-badge.svg\" alt=\"Open In Colab\"/></a>"
      ]
    },
    {
      "cell_type": "markdown",
      "metadata": {
        "id": "T8ZnEZ4R5Bid",
        "colab_type": "text"
      },
      "source": [
        "# Review Report on \"Gradient_Based Learning Applied to Document Recognition\""
      ]
    },
    {
      "cell_type": "markdown",
      "metadata": {
        "id": "H4_nP3U45Bif",
        "colab_type": "text"
      },
      "source": [
        "## Introduction"
      ]
    },
    {
      "cell_type": "markdown",
      "metadata": {
        "id": "XwHzqxap5Bih",
        "colab_type": "text"
      },
      "source": [
        "## Content"
      ]
    },
    {
      "cell_type": "markdown",
      "metadata": {
        "id": "Xq_73d825Bii",
        "colab_type": "text"
      },
      "source": [
        "As Yann’s team discussed in the report, it is shown that multilayer neural network trained by backward programming algorithm is the best example of a successful gradient-based learning technique. The gradient-based learning algorithm involves computing the gradient of some form of performance measurement in the weight space, whether accurate or approximate, and then using the result to determine the weight change in some appropriate way (Williams & Zipser 1995). Also, they indicated several approaches of handwritten character recognition and compared them in the processing of standard handwritten numeral recognition tasks. Back-propagation learning has been successfully applied to a large, real-life task. A preliminary study of alphanumeric characters shows that this method can be directly extended to larger tasks. The connection network and weights obtained by back propagation learning can be easily implemented on commercial digital signal processing hardware. Throughput from camera to classified image exceeds 10 digits per second (LeCun et al. 1990). “Convolutional neural network provides partial invariance to translation, rotation, scale and deformation”(Lawrence et al. 1997).\n",
        "\n",
        "Plus, they introduced that Graph Transformer Network (GTN), which extends the gradient-based learning algorithm to a modular system with graph as input and graph as output. The training is to calculate the gradient of the global objective function relative to all parameters in the system by using a back propagation program. The report also introduced a complete cheque reading system based on these concepts. The system uses convolutional neural network character recognizer, combined with global training technology, to provide record accuracy in business and personal inspection (Bottou, Bengio & Le Cun 1997).\n",
        "\n",
        "In addition, two main challenges, in the report, are attempted to resolve:\n",
        "1.\tIn the research of online Handwriting Recognition Systems, Characters taken in isolation will be very ambiguous when interaction with pen-based devices is highly to be improved. \n",
        "2.\tExperimenting learning in Real Handwriting Recognition Systems, the recognition of individual characters and the separation of characters from adjacent characters in words or sentences are very difficult. \n"
      ]
    },
    {
      "cell_type": "markdown",
      "metadata": {
        "id": "WyUl3k7Y5Bij",
        "colab_type": "text"
      },
      "source": [
        "## Innovation"
      ]
    },
    {
      "cell_type": "markdown",
      "metadata": {
        "id": "l15bWXqh5Bik",
        "colab_type": "text"
      },
      "source": [
        "First of all, the creative idea in the report is performing a popular minimization procedure - the stochastic gradient algorithm. The computational complexity of learning algorithms becomes a key constraint in predicting large data sets. This contribution advocates a stochastic gradient algorithm for large-scale machine learning problems. The report described the stochastic gradient algorithm, the reason why the stochastic gradient algorithm is attractive when the data is abundant, and discussed the asymptotic efficiency of the estimation after the training set is passed once and empirical evidence (Bottou 2010).\n",
        "\n",
        "Furthermore, another creative idea in the report is using Viterbi algorithm (VA), which is a decoding method of convolutional codes proposed in 1967. Since then, it has been considered an attractive solution to various digital estimation problems, a bit like Kalman filter has adapted to various analog estimation problems. Like Kalman filter, VA uses a recursive method to track the state of stochastic process. This method is optimal in a sense and easy to implement and analyse (Forney 1973).\n",
        "\n",
        "Also, the report provided an example of a Graph Transformer Module, and it is clearly that this concept could be applied to situations where knowledge or state information in many areas can be graphically represented. To make the graph transformer network more specific, they analysed an overly simple example of a trainable system constructed by three graph transformers in the context of handwriting recognition. The task of the system is to find the best handwriting segmentation into characters. In addition, performing the idea of graph transformer network to establish a checking amount reading system. The system found candidate fields, selected the most likely number of fields, divided the fields into candidate characters, read and evaluated the candidate characters, and finally applied context knowledge (such as stochastic grammar for check amounts) to find the best explanation of them (Bottou, Bengio & Le Cun 1997).\n"
      ]
    },
    {
      "cell_type": "markdown",
      "metadata": {
        "id": "8zN7TZ455Bil",
        "colab_type": "text"
      },
      "source": [
        "## Technical quality"
      ]
    },
    {
      "cell_type": "markdown",
      "metadata": {
        "id": "apuiNCD75Bim",
        "colab_type": "text"
      },
      "source": [
        "The technical development if of high/low quality. The authors supported their theory using ..."
      ]
    },
    {
      "cell_type": "markdown",
      "metadata": {
        "id": "0OvrO2Is5Bin",
        "colab_type": "text"
      },
      "source": [
        "## Application and X-factor"
      ]
    },
    {
      "cell_type": "markdown",
      "metadata": {
        "id": "ttKC9gqq5Bio",
        "colab_type": "text"
      },
      "source": [
        "I find the proposal in the paper promising. ..."
      ]
    },
    {
      "cell_type": "markdown",
      "metadata": {
        "id": "lj9kbgsR5Bip",
        "colab_type": "text"
      },
      "source": [
        "## Presentation"
      ]
    },
    {
      "cell_type": "markdown",
      "metadata": {
        "id": "NwNoGdSe5Biq",
        "colab_type": "text"
      },
      "source": [
        "The overall strucutre is clear. I found reading is easy / difficult. The paper could have been more attractive if the authors had organised ... / provided ... "
      ]
    },
    {
      "cell_type": "markdown",
      "metadata": {
        "id": "AM7hfIBM5Bis",
        "colab_type": "text"
      },
      "source": [
        "## References\n",
        "\n",
        "[SHA48][1]: Author, Title, Info\n",
        "\n",
        "[1]:https://google.com"
      ]
    }
  ]
}